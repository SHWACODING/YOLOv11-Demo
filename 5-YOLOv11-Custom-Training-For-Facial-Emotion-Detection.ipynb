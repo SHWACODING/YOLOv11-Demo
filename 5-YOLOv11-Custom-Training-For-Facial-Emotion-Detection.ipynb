{
 "cells": [
  {
   "cell_type": "code",
   "execution_count": null,
   "metadata": {
    "colab": {
     "base_uri": "https://localhost:8080/"
    },
    "executionInfo": {
     "elapsed": 4095,
     "status": "ok",
     "timestamp": 1754948420047,
     "user": {
      "displayName": "Mohamed Makhlouf",
      "userId": "11551232827362844788"
     },
     "user_tz": -180
    },
    "id": "R6H-u_Fx8PY6",
    "outputId": "95171952-5801-430b-9882-e73320f25ed1"
   },
   "outputs": [],
   "source": [
    "!pip install ultralytics"
   ]
  },
  {
   "cell_type": "code",
   "execution_count": null,
   "metadata": {
    "colab": {
     "base_uri": "https://localhost:8080/"
    },
    "executionInfo": {
     "elapsed": 1553,
     "status": "ok",
     "timestamp": 1754948421604,
     "user": {
      "displayName": "Mohamed Makhlouf",
      "userId": "11551232827362844788"
     },
     "user_tz": -180
    },
    "id": "6xX57stm-NfA",
    "outputId": "0f423ec7-fc22-41d4-e50a-707ec233fd06"
   },
   "outputs": [],
   "source": [
    "import ultralytics\n",
    "ultralytics.checks()"
   ]
  },
  {
   "cell_type": "code",
   "execution_count": null,
   "metadata": {
    "colab": {
     "base_uri": "https://localhost:8080/"
    },
    "executionInfo": {
     "elapsed": 5741,
     "status": "ok",
     "timestamp": 1754948427328,
     "user": {
      "displayName": "Mohamed Makhlouf",
      "userId": "11551232827362844788"
     },
     "user_tz": -180
    },
    "id": "9r_ooOgC-YVQ",
    "outputId": "6ffc7777-97d5-415a-cd61-418f6c3028d7"
   },
   "outputs": [],
   "source": [
    "!pip install roboflow\n",
    "\n",
    "from roboflow import Roboflow\n",
    "rf = Roboflow(api_key=\"OQloyBEkIa5d3pBnt68C\")\n",
    "project = rf.workspace(\"adalrhman\").project(\"facial-emotion-trpg7\")\n",
    "version = project.version(1)\n",
    "dataset = version.download(\"yolov11\")\n"
   ]
  },
  {
   "cell_type": "code",
   "execution_count": null,
   "metadata": {
    "executionInfo": {
     "elapsed": 23,
     "status": "ok",
     "timestamp": 1754948427372,
     "user": {
      "displayName": "Mohamed Makhlouf",
      "userId": "11551232827362844788"
     },
     "user_tz": -180
    },
    "id": "lkivXWOvABQP"
   },
   "outputs": [],
   "source": [
    "from ultralytics import YOLO\n",
    "from IPython.display import Image"
   ]
  },
  {
   "cell_type": "code",
   "execution_count": null,
   "metadata": {
    "colab": {
     "base_uri": "https://localhost:8080/",
     "height": 35
    },
    "executionInfo": {
     "elapsed": 46,
     "status": "ok",
     "timestamp": 1754948427421,
     "user": {
      "displayName": "Mohamed Makhlouf",
      "userId": "11551232827362844788"
     },
     "user_tz": -180
    },
    "id": "b1kYoas7AgJa",
    "outputId": "32869879-b454-44b5-d502-410f83bb2bfa"
   },
   "outputs": [],
   "source": [
    "dataset.location"
   ]
  },
  {
   "cell_type": "code",
   "execution_count": null,
   "metadata": {
    "colab": {
     "base_uri": "https://localhost:8080/"
    },
    "executionInfo": {
     "elapsed": 43922,
     "status": "ok",
     "timestamp": 1754948471347,
     "user": {
      "displayName": "Mohamed Makhlouf",
      "userId": "11551232827362844788"
     },
     "user_tz": -180
    },
    "id": "tkQ6sQBPAZn7",
    "outputId": "594b8c73-694e-4af1-fa3d-e5e35f4ebeff"
   },
   "outputs": [],
   "source": [
    "!yolo task=detect mode=train data={dataset.location}/data.yaml model=\"yolo11n.pt\" epochs=100 imgsz=650"
   ]
  },
  {
   "cell_type": "code",
   "execution_count": null,
   "metadata": {
    "id": "fQzSMyJNArh2"
   },
   "outputs": [],
   "source": [
    "Image(\"/content/runs/detect/train/confusion_matrix.png\", width=650)"
   ]
  },
  {
   "cell_type": "code",
   "execution_count": null,
   "metadata": {
    "id": "AXBwDq5tDKGI"
   },
   "outputs": [],
   "source": [
    "Image(\"/content/runs/detect/train/labels.jpg\", width=650)"
   ]
  },
  {
   "cell_type": "code",
   "execution_count": null,
   "metadata": {
    "id": "lqKU-3SwDbK7"
   },
   "outputs": [],
   "source": [
    "Image(\"/content/runs/detect/train/results.png\", width=650)"
   ]
  },
  {
   "cell_type": "code",
   "execution_count": null,
   "metadata": {
    "colab": {
     "base_uri": "https://localhost:8080/",
     "height": 667
    },
    "executionInfo": {
     "elapsed": 547,
     "status": "ok",
     "timestamp": 1754948472893,
     "user": {
      "displayName": "Mohamed Makhlouf",
      "userId": "11551232827362844788"
     },
     "user_tz": -180
    },
    "id": "XWk4qsYQDd5A",
    "outputId": "51d57815-e7c9-42eb-b4c6-cf4be699068d"
   },
   "outputs": [],
   "source": [
    "Image(\"/content/runs/detect/train/train_batch0.jpg\", width=650)"
   ]
  },
  {
   "cell_type": "code",
   "execution_count": null,
   "metadata": {
    "collapsed": true,
    "id": "OrKKSAxuDpgp"
   },
   "outputs": [],
   "source": [
    "Image(\"/content/runs/detect/train/train_batch0_pred.jpg\", width=650)"
   ]
  },
  {
   "cell_type": "code",
   "execution_count": null,
   "metadata": {
    "colab": {
     "base_uri": "https://localhost:8080/"
    },
    "executionInfo": {
     "elapsed": 1499,
     "status": "ok",
     "timestamp": 1754948474446,
     "user": {
      "displayName": "Mohamed Makhlouf",
      "userId": "11551232827362844788"
     },
     "user_tz": -180
    },
    "id": "Ot6KZ-TZDxuO",
    "outputId": "48926a78-bec0-4f4e-fb36-74a0d32852fc"
   },
   "outputs": [],
   "source": [
    "!yolo task=detect mode=val model=\"/content/runs/detect/train2/weights/best.pt\" data={dataset.location}/data.yaml"
   ]
  },
  {
   "cell_type": "code",
   "execution_count": null,
   "metadata": {
    "id": "BTLDwbF5Emmo"
   },
   "outputs": [],
   "source": [
    "!yolo task=detect mode=predict model=\"/content/runs/detect/train2/weights/best.pt\" conf=0.25 data={dataset.location}/test/images save=True"
   ]
  },
  {
   "cell_type": "code",
   "execution_count": null,
   "metadata": {
    "id": "fF-GFhToFYhm"
   },
   "outputs": [],
   "source": [
    "import glob\n",
    "import os\n",
    "from IPython.display import Image, display\n",
    "\n",
    "latest_folder = max(glob.glob(\"content/runs/detect/predict*/\"), key=os.path.getmtime)\n",
    "\n",
    "for img in glob.glob(f\"{latest_folder}/*.jpg\")[:3]:\n",
    "  display(Image(filename=img, width=650))\n",
    "  print(\"\\n\")"
   ]
  }
 ],
 "metadata": {
  "accelerator": "TPU",
  "colab": {
   "authorship_tag": "ABX9TyMDGIT0tB03465sFuWp+Xt6",
   "gpuType": "V28",
   "provenance": []
  },
  "kernelspec": {
   "display_name": "Python 3",
   "name": "python3"
  },
  "language_info": {
   "name": "python"
  }
 },
 "nbformat": 4,
 "nbformat_minor": 0
}
